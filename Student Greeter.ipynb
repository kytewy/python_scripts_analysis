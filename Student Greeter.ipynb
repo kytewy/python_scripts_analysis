{
 "cells": [
  {
   "cell_type": "code",
   "execution_count": 1,
   "metadata": {},
   "outputs": [],
   "source": [
    "#!/usr/bin/python3\n",
    "# Author: Wyatt Kyte\n",
    "# Sample 2b - Simple OOP GUI\n",
    "\n",
    "# Import packages/modules\n",
    "#=============================\n",
    "import tkinter as tk\n",
    "from tkinter.constants import *\n",
    "\n",
    "\n",
    "# Create the application base class\n",
    "#=============================\n",
    "class myApp():\n",
    "    # Initialize application (attributes, widgets)\n",
    "    def __init__(self, master):\n",
    "        master.title('My Sample App')\n",
    "    \n",
    "        \n",
    "        # Starting with the changing label, followed by the buttons\n",
    "        #=============================\n",
    "        self.myLabel = tk.Label(master, text =\"Please select a language\")\n",
    "        self.myLabel.grid(row=0, column=0, columnspan = 3)\n",
    "        \n",
    "        self.myEnglishButton = tk.Button(master, text=\"English\", command= self.myEnglishClick)\n",
    "        self.myEnglishButton.grid(row=1, column=0)\n",
    "        \n",
    "        self.mySpanishButton = tk.Button(master, text=\"Spanish\", command = self.mySpanishClick)\n",
    "        self.mySpanishButton.grid(row=2, column=1)\n",
    "        \n",
    "        self.myFrenchButton = tk.Button(master, text=\"French\", command= self.myFrenchClick)\n",
    "        self.myFrenchButton.grid(row=3, column=2)\n",
    "        \n",
    "        \n",
    "    # Add Methods (order does not matter)\n",
    "    def myEnglishClick(self):\n",
    "            self.myLabel.config(text = \"Hello, Wyatt!\")\n",
    "    def myFrenchClick(self):   \n",
    "            self.myLabel.config(text =\"Bonjour, Wyatt!\")\n",
    "    def mySpanishClick(self):\n",
    "            self.myLabel.config(text = \"Hola, Wyatt!\")\n",
    "\n",
    "def main():\n",
    "    root = tk.Tk()   \n",
    "    app = myApp(root)\n",
    "    root.mainloop()\n",
    "    \n",
    "if __name__ == \"__main__\":\n",
    "    main()\n"
   ]
  }
 ],
 "metadata": {
  "kernelspec": {
   "display_name": "Python 3",
   "language": "python",
   "name": "python3"
  },
  "language_info": {
   "codemirror_mode": {
    "name": "ipython",
    "version": 3
   },
   "file_extension": ".py",
   "mimetype": "text/x-python",
   "name": "python",
   "nbconvert_exporter": "python",
   "pygments_lexer": "ipython3",
   "version": "3.7.1"
  }
 },
 "nbformat": 4,
 "nbformat_minor": 2
}
